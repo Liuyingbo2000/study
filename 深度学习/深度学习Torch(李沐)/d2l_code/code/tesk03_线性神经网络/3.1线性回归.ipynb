{
 "cells": [
  {
   "attachments": {},
   "cell_type": "markdown",
   "metadata": {},
   "source": [
    "# 动手深度学习 第三章 线性神经网络"
   ]
  },
  {
   "attachments": {},
   "cell_type": "markdown",
   "metadata": {},
   "source": [
    "## 3.1线性回归+基础优化算法"
   ]
  },
  {
   "attachments": {},
   "cell_type": "markdown",
   "metadata": {},
   "source": [
    "线性回归"
   ]
  },
  {
   "attachments": {},
   "cell_type": "markdown",
   "metadata": {},
   "source": [
    "平方损失\n",
    "    训练损失\n",
    "训练损失\n",
    "最小化损失来学习参数\n",
    "显示解\n",
    "    损失是凸函数\n",
    "\n",
    "\n",
    "                                                                  总结\n",
    "线性回归是对N维输入的加权，外加偏差\n",
    "使用平方损失来衡量预测值和真实值的差异\n",
    "线性回归有显示解\n",
    "线性回归可以看做单层神经网络\n"
   ]
  },
  {
   "attachments": {},
   "cell_type": "markdown",
   "metadata": {},
   "source": [
    "基础优化方法\n",
    "    梯度下降\n",
    "        挑选一个W0\n",
    "            沿梯度方向将增加损失函数值\n",
    "            学习率\n",
    "                选择学习率\n",
    "    小批量随机梯度下降\n",
    "\n",
    "总结\n",
    "\n",
    "    梯度下降通过不断沿着反梯度方向更新参数求解\n",
    "    小批量随机梯度下降是深度学习默认的求解方法\n",
    "    两个重要的超参数是批量大小和学习率\n"
   ]
  }
 ],
 "metadata": {
  "language_info": {
   "name": "python"
  },
  "orig_nbformat": 4
 },
 "nbformat": 4,
 "nbformat_minor": 2
}
